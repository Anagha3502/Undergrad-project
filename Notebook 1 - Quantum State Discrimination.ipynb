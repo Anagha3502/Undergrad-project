{
  "cells": [
    {
      "cell_type": "markdown",
      "metadata": {
        "id": "view-in-github",
        "colab_type": "text"
      },
      "source": [
        "<a href=\"https://colab.research.google.com/github/Anagha3502/Undergrad-project/blob/main/Notebook%201%20-%20Quantum%20State%20Discrimination.ipynb\" target=\"_parent\"><img src=\"https://colab.research.google.com/assets/colab-badge.svg\" alt=\"Open In Colab\"/></a>"
      ]
    },
    {
      "cell_type": "markdown",
      "metadata": {
        "id": "ZB8MJ2PWCPxq"
      },
      "source": [
        "# Quantum State Discrimination"
      ]
    },
    {
      "cell_type": "markdown",
      "metadata": {
        "id": "2pTYxORrCPxu"
      },
      "source": [
        "Date : December 15, 2021\n",
        "\n",
        "This notebook contains material supporting a paper, currently titled *Five Starter Pieces: Quantum Information Science via Semi-definite Programs*, by Vikesh Siddhu (vsiddhu@protonmail.com) and Sridhar Tayur (stayur@cmu.edu). The paper is available on this **[arXiv](http://arxiv.org/abs/2112.08276)** link. The arXiv paper is released there is under the **[arXiv.org perpetual, non-exclusive license](https://arxiv.org/licenses/nonexclusive-distrib/1.0/license.html)**, and this code is released under the **[MIT license](https://opensource.org/licenses/MIT)**.\n",
        "\n",
        "\n",
        "This notebook depends upon various packages including [numpy](https://numpy.org/) >= 1.19.5, [picos](https://picos-api.gitlab.io/picos/index.html) >= 2.2.55, and [cvxopt](http://cvxopt.org/) >= 1.2.5.\n",
        "    \n",
        "[![Open In Colab](https://colab.research.google.com/assets/colab-badge.svg)](https://colab.research.google.com/github/vsiddhu/SDP-Quantum-OR/blob/master/Notebook%201%20-%20Quantum%20State%20Discrimination.ipynb)"
      ]
    },
    {
      "cell_type": "markdown",
      "metadata": {
        "id": "y4S7AwE0CPxv"
      },
      "source": [
        "## Introduction\n",
        "\n",
        "The maximum probability of successfully distinguishing states $\\sigma_i$, created with probability \n",
        "$p_i$, is given by\n",
        "\n",
        "\\begin{align}\n",
        "    \\begin{aligned}\n",
        "        \\text{maximize} \\; &  \\sum_{i = 1}^{n-1} p_i \\rm Tr(E_i \\rho_i) + \\rm p_n Tr(E_n \\rho_n) & \\\\ \n",
        "        \\text{subject to} \\; & E_j \\succeq 0,& \\forall 1 \\leq j \\leq n-1, \\\\ \n",
        "        \\text{and} \\; & I - \\sum_{i = 1}^{n-1} E_i \\succeq 0. &\n",
        "    \\end{aligned}\n",
        "\\end{align}\n",
        "\n",
        "where $p_n := 1 - \\sum_{i = 1}^{n-1} p_i$ and $E_n := I - \\sum_{i = 1}^{n-1} E_i$."
      ]
    },
    {
      "cell_type": "code",
      "execution_count": null,
      "metadata": {
        "id": "XYJ0fC4GCPxw",
        "outputId": "a701135e-1fb7-41b9-c1dd-ed98cc9a512b"
      },
      "outputs": [
        {
          "name": "stdout",
          "output_type": "stream",
          "text": [
            "Populating the interactive namespace from numpy and matplotlib\n"
          ]
        }
      ],
      "source": [
        "%pylab inline"
      ]
    },
    {
      "cell_type": "code",
      "execution_count": null,
      "metadata": {
        "id": "a-ma4PAOCPxy"
      },
      "outputs": [],
      "source": [
        "# For Google Colab use commands installing packages\n",
        "try:\n",
        "  import google.colab\n",
        "  IN_COLAB = True\n",
        "except:\n",
        "  IN_COLAB = False\n",
        "\n",
        "# Install PICOS and CVXOPT in Google Colab\n",
        "if IN_COLAB:\n",
        "    !pip install -q picos\n",
        "    !pip install -q cvxopt"
      ]
    },
    {
      "cell_type": "code",
      "execution_count": null,
      "metadata": {
        "id": "frKKbhISCPxz"
      },
      "outputs": [],
      "source": [
        "import picos as pic\n",
        "import cvxopt as cvx"
      ]
    },
    {
      "cell_type": "code",
      "execution_count": null,
      "metadata": {
        "id": "KruhDH0SCPxz",
        "outputId": "f26ef2ef-4210-4bc9-a6e9-bf251019f033"
      },
      "outputs": [
        {
          "name": "stdout",
          "output_type": "stream",
          "text": [
            "Solvers supported on this installation of PICOS: dict_keys(['cplex', 'cvxopt', 'ecos', 'glpk', 'gurobi', 'mosek', 'mskfsn', 'scip', 'smcp'])\n"
          ]
        }
      ],
      "source": [
        "print('Solvers supported on this installation of PICOS:', pic.solvers.all_solvers().keys())"
      ]
    },
    {
      "cell_type": "code",
      "execution_count": null,
      "metadata": {
        "id": "pu0DsTL7CPx0",
        "outputId": "3d725e5a-9026-4cfc-bb46-fe52e55e44ee"
      },
      "outputs": [
        {
          "name": "stdout",
          "output_type": "stream",
          "text": [
            "Solvers available to PICOS on this machine : ['cvxopt', 'mosek', 'mskfsn']\n"
          ]
        }
      ],
      "source": [
        "print('Solvers available to PICOS on this machine :', pic.solvers.available_solvers())"
      ]
    },
    {
      "cell_type": "markdown",
      "metadata": {
        "id": "5k7lpHAECPx1"
      },
      "source": [
        "### Example 1\n",
        "Consider a case where $n=2$, density operators $\\sigma_i$ have the form\n",
        "    \\begin{equation}\n",
        "    \\sigma_1 = \n",
        "    \\begin{pmatrix}\n",
        "    1 & 0 \\\\\n",
        "    0 & 0\n",
        "    \\end{pmatrix}, \n",
        "    \\quad\n",
        "    \\sigma_2 = \n",
        "    \\begin{pmatrix}\n",
        "    0 & 0 \\\\\n",
        "    0 & 1\n",
        "    \\end{pmatrix},\n",
        "    \\end{equation}\n",
        "  and $p_1 = q, p_2 = 1-q$ and $0 \\leq q \\leq 1$. In this case the SDP mentioned at the top of the notebook takes the form\n",
        "  \n",
        "\\begin{align}\n",
        "    \\begin{aligned}\n",
        "        \\text{maximize} \\; &  q \\rm Tr(E_1 \\sigma_1) + (1-q) \\rm Tr\\big( (I - E_1) \\sigma_2\\big) & \\\\ \n",
        "        \\text{subject to} \\; & E_1 \\succeq 0, &, \\\\ \n",
        "        \\text{and} \\; & I - E_1 \\succeq 0. &\n",
        "    \\end{aligned}\n",
        "\\end{align}\n",
        "\n",
        "We solve this semidefinite program using PICOS."
      ]
    },
    {
      "cell_type": "code",
      "execution_count": null,
      "metadata": {
        "id": "bODhDW1cCPx1"
      },
      "outputs": [],
      "source": [
        "#Example 1\n",
        "\n",
        "sig1 = np.array([[1.,0],[0.,0.]])\n",
        "sig2 = np.array([[0.,0],[0.,1.]])\n",
        "\n",
        "qVal = np.random.rand()"
      ]
    },
    {
      "cell_type": "code",
      "execution_count": null,
      "metadata": {
        "id": "InKst3YTCPx2"
      },
      "outputs": [],
      "source": [
        "\n",
        "#Constants\n",
        "#----------\n",
        "Sgs1 = pic.Constant(\"sg1\", sig1)\n",
        "Sgs2 = pic.Constant(\"sg2\", sig2)\n",
        "\n",
        "q = pic.Constant(\"q\", qVal)\n",
        "\n",
        "#Identity matrix\n",
        "shp = np.shape(sig1)\n",
        "iMat = pic.Constant('I', np.eye(shp[0],dtype='complex'))\n",
        "\n",
        "#Variables\n",
        "#----------\n",
        "eVars = pic.HermitianVariable(\"E1\", shp)\n",
        "\n",
        "prob1 = pic.Problem()\n",
        "    \n",
        "#Constraint\n",
        "#----------\n",
        "prob1.add_constraint(eVars >> 0)\n",
        "prob1.add_constraint(iMat - eVars >> 0)\n",
        "\n",
        "#Objective\n",
        "#----------\n",
        "obj = q*(Sgs1 | eVars) + (1-q)*(Sgs2 | iMat - eVars)\n",
        "\n",
        "prob1.set_objective('max',obj)\n"
      ]
    },
    {
      "cell_type": "code",
      "execution_count": null,
      "metadata": {
        "id": "J2KAGJckCPx3",
        "outputId": "428b3aef-3d50-47ba-956d-390dca5af0f5"
      },
      "outputs": [
        {
          "name": "stdout",
          "output_type": "stream",
          "text": [
            "----------------------------------------------\n",
            "Complex Semidefinite Program\n",
            "  maximize q·⟨sg1, E1⟩ + (1 - q)·⟨sg2, I - E1⟩\n",
            "  over\n",
            "    2×2 hermitian variable E1\n",
            "  subject to\n",
            "    E1 ≽ 0\n",
            "    I - E1 ≽ 0\n",
            "----------------------------------------------\n"
          ]
        }
      ],
      "source": [
        "#User readable view of the problem being composed in PICOS\n",
        "print(prob1)"
      ]
    },
    {
      "cell_type": "code",
      "execution_count": null,
      "metadata": {
        "id": "yeKWZ_TLCPx3",
        "outputId": "7e83c5b9-636c-4ff0-f97a-d40bb683a379"
      },
      "outputs": [
        {
          "data": {
            "text/plain": [
              "<primal feasible solution pair (claimed optimal) from cvxopt>"
            ]
          },
          "execution_count": 9,
          "metadata": {},
          "output_type": "execute_result"
        }
      ],
      "source": [
        "#Solve the problem using a solver of our choice and display progress\n",
        "prob1.solve(verbosity=False,solver='cvxopt')"
      ]
    },
    {
      "cell_type": "code",
      "execution_count": null,
      "metadata": {
        "id": "V-sL2CWmCPx4"
      },
      "outputs": [],
      "source": [
        "#The solver claims to have found an optimal solution. As a bonus, the SDP solution also gives the POVM element E1\n",
        "pvm1 = np.array(eVars.value)"
      ]
    },
    {
      "cell_type": "code",
      "execution_count": null,
      "metadata": {
        "id": "cel7ZCGHCPx4",
        "outputId": "79931303-c0bf-4e88-f5c3-f40c69a055c0"
      },
      "outputs": [
        {
          "name": "stdout",
          "output_type": "stream",
          "text": [
            "Probability of discriminating the inputs is =  0.9999999994373823\n"
          ]
        }
      ],
      "source": [
        "prb = prob1.value\n",
        "print('Probability of discriminating the inputs is = ', prb)\n",
        "#For an explaination of why success probability is 1 even though the input p is random, see the text below"
      ]
    },
    {
      "cell_type": "markdown",
      "metadata": {
        "id": "6aadTK75CPx4"
      },
      "source": [
        "* The probability of successful discriminating two qauntum states $\\sigma_1$ and $\\sigma_2$ each occuring with probability $p_1$ and $p_2$ respectively, is given by \n",
        " $$p^* = \\frac{1}{2}( 1 + || p_1 \\sigma_1 - p_2\\sigma_2 ||_1 ).$$\n",
        " The example above numerically demonstrates this fact in a simple case where $\\sigma_1$ and $\\sigma_2$ are $2 \\times 2$ matrices. In this example, $p_1 = q$ and $p_2 = 1 -q$, where $q \\in [0,1]$ is random. Density operators $\\sigma_1$ and $\\sigma_2$ are orthogonal. These orthogonal density operators have $l_1$ distance, $|| \\sigma_1 - \\sigma_2 ||_1 = 2$ and thus $p^* = 1$, independent of $q$. In the following example, we choose $p_1,p_2,\\sigma_1$ and $\\sigma_2$ randomly and confirm our numerical SDP result with the algebraic result above."
      ]
    },
    {
      "cell_type": "markdown",
      "metadata": {
        "id": "lXIYZ32YCPx5"
      },
      "source": [
        "### Example 2\n",
        "Consider a case where $n=2, d = 6$, density operators $\\sigma_1$ and $\\sigma_2$ are chosen randomly, $p_1 = q$,\n",
        "$p_2 = 1-q$ and $q$ chosen randomly between 0 and 1. In this case the SDP mentioned at the top of the notebook takes the form\n",
        "\n",
        "\\begin{align}\n",
        "    \\begin{aligned}\n",
        "        \\text{maximize} \\; &  q \\rm Tr(E_1 \\sigma_1) + (1-q) \\rm Tr\\big( (I - E_1) \\sigma_2\\big) & \\\\ \n",
        "        \\text{subject to} \\; & E_1 \\succeq 0, &, \\\\ \n",
        "        \\text{and} \\; & I - E_1 \\succeq 0. &\n",
        "    \\end{aligned}\n",
        "\\end{align}\n"
      ]
    },
    {
      "cell_type": "code",
      "execution_count": null,
      "metadata": {
        "id": "iQdCYdDvCPx5"
      },
      "outputs": [],
      "source": [
        "#Example 2\n",
        "d = 6\n",
        "\n",
        "mt1 = np.random.rand(d,d) + 1j*np.random.randn(d,d)\n",
        "mt1 = np.dot(mt1,mt1.conj().T)\n",
        "sig1 = mt1/np.trace(mt1)\n",
        "\n",
        "mt2 = np.random.rand(d,d) + 1j*np.random.randn(d,d)\n",
        "mt2 = np.dot(mt2,mt2.conj().T)\n",
        "sig2 = mt2/np.trace(mt2)\n",
        "\n",
        "qVal = np.random.rand()"
      ]
    },
    {
      "cell_type": "code",
      "execution_count": null,
      "metadata": {
        "id": "JdR0jQDxCPx5"
      },
      "outputs": [],
      "source": [
        "\n",
        "#Constants\n",
        "#----------\n",
        "Sgs1 = pic.Constant(\"sg1\", sig1)\n",
        "Sgs2 = pic.Constant(\"sg2\", sig2)\n",
        "\n",
        "q = pic.Constant(\"q\", qVal)\n",
        "\n",
        "#Identity matrix\n",
        "shp = np.shape(sig1)\n",
        "iMat = pic.Constant('I', np.eye(shp[0],dtype='complex'))\n",
        "\n",
        "#Variables\n",
        "#----------\n",
        "eVars = pic.HermitianVariable(\"E1\", shp)\n",
        "\n",
        "prob2 = pic.Problem()\n",
        "    \n",
        "#Constraint\n",
        "#----------\n",
        "prob2.add_constraint(eVars >> 0)\n",
        "prob2.add_constraint(iMat - eVars >> 0)\n",
        "\n",
        "#Objective\n",
        "#----------\n",
        "obj = q*(Sgs1 | eVars) + (1-q)*(Sgs2 | iMat - eVars)\n",
        "\n",
        "prob2.set_objective('max',obj.real)\n"
      ]
    },
    {
      "cell_type": "code",
      "execution_count": null,
      "metadata": {
        "id": "OUIOJebBCPx6",
        "outputId": "43df7a0d-9f0f-4474-a169-00bf4e43770a"
      },
      "outputs": [
        {
          "name": "stdout",
          "output_type": "stream",
          "text": [
            "--------------------------------------------------\n",
            "Complex Semidefinite Program\n",
            "  maximize Re(q·⟨sg1, E1⟩ + (1 - q)·⟨sg2, I - E1⟩)\n",
            "  over\n",
            "    6×6 hermitian variable E1\n",
            "  subject to\n",
            "    E1 ≽ 0\n",
            "    I - E1 ≽ 0\n",
            "--------------------------------------------------\n"
          ]
        }
      ],
      "source": [
        "#User readable view of the problem being composed in PICOS\n",
        "print(prob2)"
      ]
    },
    {
      "cell_type": "code",
      "execution_count": null,
      "metadata": {
        "id": "lbvjj0t1CPx6",
        "outputId": "941b67b1-68e7-4307-d3e0-073aca907b2b"
      },
      "outputs": [
        {
          "data": {
            "text/plain": [
              "<primal feasible solution pair (claimed optimal) from cvxopt>"
            ]
          },
          "execution_count": 16,
          "metadata": {},
          "output_type": "execute_result"
        }
      ],
      "source": [
        "#Solve the problem using a solver of our choice and display progress\n",
        "prob2.solve(verbosity=False,solver='cvxopt')"
      ]
    },
    {
      "cell_type": "code",
      "execution_count": null,
      "metadata": {
        "id": "RA8eAAEACPx6"
      },
      "outputs": [],
      "source": [
        "#Helstrom result computes using numpy\n",
        "delOpt = qVal*sig1 - (1-qVal)*sig2\n",
        "# print(np.linalg.eigh(delOpt))\n",
        "(u,s,vH) = np.linalg.svd(delOpt, hermitian=False)\n",
        "pStarAlg = (np.sum(s) + 1)/2"
      ]
    },
    {
      "cell_type": "code",
      "execution_count": null,
      "metadata": {
        "id": "gdfZ480jCPx6",
        "outputId": "98c6b807-7873-47b2-d275-9ac3a2570d37"
      },
      "outputs": [
        {
          "name": "stdout",
          "output_type": "stream",
          "text": [
            "Probability of discriminating the input\n",
            "Using SDP =  0.9129937076702335\n",
            "Helstrom result 0.9129937078308089\n",
            "Difference between these values 1.6057544183212258e-10\n"
          ]
        }
      ],
      "source": [
        "prb2 = prob2.value\n",
        "print('Probability of discriminating the input')\n",
        "print('Using SDP = ', prb2)\n",
        "print('Helstrom result', pStarAlg)\n",
        "print('Difference between these values', abs(prb2 - pStarAlg))"
      ]
    },
    {
      "cell_type": "markdown",
      "metadata": {
        "id": "SKBa7btTCPx7"
      },
      "source": [
        "### Example 3\n",
        "Consider a case where $n=3$, the density operators $\\sigma_i$ have the form\n",
        "    \\begin{equation}\n",
        "    \\sigma_1 = \n",
        "    \\begin{pmatrix}\n",
        "    1 & 0 \\\\\n",
        "    0 & 0\n",
        "    \\end{pmatrix}\n",
        "    \\quad\n",
        "    \\sigma_2 = \n",
        "    \\frac{1}{2}\\begin{pmatrix}\n",
        "    1 & 1 \\\\\n",
        "    1 & 1\n",
        "    \\end{pmatrix}\n",
        "    \\quad\n",
        "    \\sigma_3 = \n",
        "    \\frac{1}{2}\\begin{pmatrix}\n",
        "    1 & 0 \\\\\n",
        "    0 & 1\n",
        "    \\end{pmatrix}\n",
        "    \\end{equation}\n",
        " $p_1 = \\frac{q}{2}, p_2 = \\frac{q}{2}, p_3 = 1-q$, and $0 \\leq q \\leq 1$. In this case the SDP mentioned at the top of the notebook takes the form\n",
        "\\begin{align}\n",
        "    \\begin{aligned}\n",
        "        \\text{maximize} \\; &  \\frac{q}{2} \\rm Tr(E_1 \\sigma_1)+ \\frac{q}{2} Tr(E_2 \\sigma_2) + (1-q) \\rm Tr\\big( (I -E_1 - E_2) \\sigma_3\\big) & \\\\ \n",
        "        \\text{subject to} \\; & E_1 \\succeq 0, &, \\\\ \n",
        "         & E_1 \\succeq 0. & \\\\\n",
        "        \\text{and} \\; & I - E_1 - E_2 \\succeq 0. &\n",
        "    \\end{aligned}\n",
        "\\end{align}\n",
        "\n"
      ]
    },
    {
      "cell_type": "code",
      "execution_count": null,
      "metadata": {
        "id": "VSFT07IWCPx7"
      },
      "outputs": [],
      "source": [
        "#Example 3\n",
        "\n",
        "sig1 = np.array([[1.,0.],[0.,0.]])\n",
        "sig2 = np.array([[0.,0.],[0.,1.]])\n",
        "sig3 = np.array([[1.,0.],[0.,1.]])/2\n",
        "\n",
        "qVal = np.random.rand()"
      ]
    },
    {
      "cell_type": "code",
      "execution_count": null,
      "metadata": {
        "id": "zICHS1HqCPx7"
      },
      "outputs": [],
      "source": [
        "#Constants\n",
        "#----------\n",
        "Sgs1 = pic.Constant(\"sg1\", sig1)\n",
        "Sgs2 = pic.Constant(\"sg2\", sig2)\n",
        "Sgs3 = pic.Constant(\"sg2\", sig3)\n",
        "\n",
        "q = pic.Constant(\"q\", qVal)\n",
        "\n",
        "#Identity matrix\n",
        "shp = np.shape(sig1)\n",
        "iMat = pic.Constant('I', np.eye(shp[0],dtype='complex'))\n",
        "\n",
        "#Variables\n",
        "#----------\n",
        "eVars1 = pic.HermitianVariable(\"E1\", shp)\n",
        "eVars2 = pic.HermitianVariable(\"E2\", shp)\n",
        "\n",
        "prob3 = pic.Problem()\n",
        "    \n",
        "#Constraint\n",
        "#----------\n",
        "prob3.add_constraint(eVars1 >> 0)\n",
        "prob3.add_constraint(eVars2 >> 0)\n",
        "prob3.add_constraint(iMat - eVars1 -eVars2 >> 0)\n",
        "\n",
        "#Objective\n",
        "#----------\n",
        "obj3 = (q/2)*(Sgs1 | eVars1) + (q/2)*(Sgs2 | eVars2) + (1-q)*(Sgs3 | iMat - eVars1 - eVars2)\n",
        "\n",
        "prob3.set_objective('max',obj3)\n"
      ]
    },
    {
      "cell_type": "code",
      "execution_count": null,
      "metadata": {
        "id": "dkLlGH15CPx8",
        "outputId": "533b9e3e-829b-4721-de4a-70937d415b1a"
      },
      "outputs": [
        {
          "name": "stdout",
          "output_type": "stream",
          "text": [
            "---------------------------------------------------------------------\n",
            "Complex Semidefinite Program\n",
            "  maximize q/2·⟨sg1, E1⟩ + q/2·⟨sg2, E2⟩ + (1 - q)·⟨sg2, I - E1 - E2⟩\n",
            "  over\n",
            "    2×2 hermitian variable E1, E2\n",
            "  subject to\n",
            "    E1 ≽ 0\n",
            "    E2 ≽ 0\n",
            "    I - E1 - E2 ≽ 0\n",
            "---------------------------------------------------------------------\n"
          ]
        }
      ],
      "source": [
        "#User readable view of the problem being composed in PICOS\n",
        "print(prob3)"
      ]
    },
    {
      "cell_type": "code",
      "execution_count": null,
      "metadata": {
        "id": "jmvrSNGrCPx8",
        "outputId": "57f4b853-00cd-4a4c-b4de-28b8a5de2388"
      },
      "outputs": [
        {
          "data": {
            "text/plain": [
              "<primal feasible solution pair (claimed optimal) from cvxopt>"
            ]
          },
          "execution_count": 21,
          "metadata": {},
          "output_type": "execute_result"
        }
      ],
      "source": [
        "#Let us solve the problem using a solver of our choice\n",
        "prob3.solve(verbosity=False,solver='cvxopt')"
      ]
    },
    {
      "cell_type": "code",
      "execution_count": null,
      "metadata": {
        "id": "1GFHthZjCPx8"
      },
      "outputs": [],
      "source": [
        "#The solver claims to have found an optimal solution. As a bonus, the SDP solution also gives the POVM element E\n",
        "pov1 = np.array(eVars1.value)\n",
        "pov2 = np.array(eVars2.value)"
      ]
    },
    {
      "cell_type": "markdown",
      "metadata": {
        "id": "D_suWwVJCPx9"
      },
      "source": [
        "Using the structure of the SDP being solved, one can show its maximum value to be $\\max(q, 1-q)$. The numerics above match this algebraic solution"
      ]
    },
    {
      "cell_type": "code",
      "execution_count": null,
      "metadata": {
        "scrolled": true,
        "id": "_MON3DkECPx9",
        "outputId": "b7dc110a-305c-47e2-b200-ae6348571d85"
      },
      "outputs": [
        {
          "name": "stdout",
          "output_type": "stream",
          "text": [
            "Probability of discriminating the input given by SDP =  0.7133864729887238\n",
            "Algebraic solution =  0.7133864734236646\n"
          ]
        }
      ],
      "source": [
        "prb3 = prob3.value\n",
        "print('Probability of discriminating the input given by SDP = ', prb3)\n",
        "print('Algebraic solution = ', max(qVal,1-qVal))\n"
      ]
    }
  ],
  "metadata": {
    "kernelspec": {
      "display_name": "Python 3",
      "language": "python",
      "name": "python3"
    },
    "language_info": {
      "codemirror_mode": {
        "name": "ipython",
        "version": 3
      },
      "file_extension": ".py",
      "mimetype": "text/x-python",
      "name": "python",
      "nbconvert_exporter": "python",
      "pygments_lexer": "ipython3",
      "version": "3.8.3"
    },
    "colab": {
      "provenance": [],
      "include_colab_link": true
    }
  },
  "nbformat": 4,
  "nbformat_minor": 0
}